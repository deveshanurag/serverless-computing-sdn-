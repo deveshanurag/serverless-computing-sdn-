{
 "cells": [
  {
   "cell_type": "code",
   "execution_count": 1,
   "id": "e9c79a6c",
   "metadata": {},
   "outputs": [],
   "source": [
    "import pandas as pd\n",
    "import numpy as np\n",
    "import joblib\n",
    "import warnings\n",
    "warnings.filterwarnings(\"ignore\")"
   ]
  },
  {
   "cell_type": "code",
   "execution_count": 10,
   "id": "997d4fef",
   "metadata": {},
   "outputs": [],
   "source": [
    "from sklearn.model_selection import train_test_split\n",
    "from sklearn.preprocessing import StandardScaler\n",
    "from sklearn.ensemble import RandomForestClassifier\n",
    "from sklearn.metrics import accuracy_score, classification_report"
   ]
  },
  {
   "cell_type": "code",
   "execution_count": 11,
   "id": "119221e5",
   "metadata": {},
   "outputs": [],
   "source": [
    "df = pd.read_csv('dataset_sdn.csv').dropna()"
   ]
  },
  {
   "cell_type": "code",
   "execution_count": 12,
   "id": "8f7fde4c",
   "metadata": {},
   "outputs": [],
   "source": [
    "features = [\n",
    "    'src', 'pktcount', 'dst', 'byteperflow', 'pktperflow',\n",
    "    'pktrate', 'tot_kbps', 'rx_kbps', 'flows', 'bytecount',\n",
    "    'dt', 'Protocol', 'dur', 'tot_dur'\n",
    "]"
   ]
  },
  {
   "cell_type": "code",
   "execution_count": 13,
   "id": "bc7f4ff0",
   "metadata": {},
   "outputs": [],
   "source": [
    "X = df[features].drop(['src', 'dst', 'dt'], axis=1)\n",
    "y = df['label']"
   ]
  },
  {
   "cell_type": "code",
   "execution_count": 14,
   "id": "3628b080",
   "metadata": {},
   "outputs": [],
   "source": [
    "X = X.drop(['dur', 'pktrate', 'pktperflow'], axis=1)"
   ]
  },
  {
   "cell_type": "code",
   "execution_count": 15,
   "id": "7eac2670",
   "metadata": {},
   "outputs": [],
   "source": [
    "X = pd.get_dummies(X, columns=['Protocol'])"
   ]
  },
  {
   "cell_type": "code",
   "execution_count": 16,
   "id": "5eaec949",
   "metadata": {},
   "outputs": [],
   "source": [
    "for proto in ['Protocol_ICMP', 'Protocol_TCP', 'Protocol_UDP']:\n",
    "    if proto not in X.columns:\n",
    "        X[proto] = 0"
   ]
  },
  {
   "cell_type": "code",
   "execution_count": 17,
   "id": "e50fee71",
   "metadata": {},
   "outputs": [],
   "source": [
    "X = X[['byteperflow', 'tot_kbps', 'rx_kbps', 'flows', 'bytecount', 'tot_dur',\n",
    "       'Protocol_ICMP', 'Protocol_TCP', 'Protocol_UDP']]"
   ]
  },
  {
   "cell_type": "code",
   "execution_count": 18,
   "id": "236a3b40",
   "metadata": {},
   "outputs": [],
   "source": [
    "scaler = StandardScaler()\n",
    "X_scaled = scaler.fit_transform(X)"
   ]
  },
  {
   "cell_type": "code",
   "execution_count": 19,
   "id": "33eda5c7",
   "metadata": {},
   "outputs": [],
   "source": [
    "X_train, X_test, y_train, y_test = train_test_split(X_scaled, y, test_size=0.3, random_state=42)"
   ]
  },
  {
   "cell_type": "code",
   "execution_count": 20,
   "id": "5c0efb24",
   "metadata": {},
   "outputs": [
    {
     "data": {
      "text/plain": [
       "RandomForestClassifier(max_depth=10, min_samples_leaf=3, n_jobs=-1,\n",
       "                       random_state=1)"
      ]
     },
     "execution_count": 20,
     "metadata": {},
     "output_type": "execute_result"
    }
   ],
   "source": [
    "model = RandomForestClassifier(\n",
    "    n_estimators=100,       # fewer trees\n",
    "    max_depth=10,           # shallower trees\n",
    "    min_samples_leaf=3,     # less overfitting\n",
    "    random_state=1,\n",
    "    n_jobs=-1\n",
    ")\n",
    "model.fit(X_train, y_train)"
   ]
  },
  {
   "cell_type": "code",
   "execution_count": 21,
   "id": "61b2b543",
   "metadata": {},
   "outputs": [
    {
     "name": "stdout",
     "output_type": "stream",
     "text": [
      "✅ Accuracy: 96.0%\n",
      "              precision    recall  f1-score   support\n",
      "\n",
      "           0       0.99      0.94      0.97     18986\n",
      "           1       0.92      0.99      0.95     12166\n",
      "\n",
      "    accuracy                           0.96     31152\n",
      "   macro avg       0.95      0.97      0.96     31152\n",
      "weighted avg       0.96      0.96      0.96     31152\n",
      "\n"
     ]
    }
   ],
   "source": [
    "y_pred = model.predict(X_test)\n",
    "print(f\"✅ Accuracy: {round(accuracy_score(y_test, y_pred) * 100, 2)}%\")\n",
    "print(classification_report(y_test, y_pred))"
   ]
  },
  {
   "cell_type": "code",
   "execution_count": 22,
   "id": "d54c3d35",
   "metadata": {},
   "outputs": [
    {
     "name": "stdout",
     "output_type": "stream",
     "text": [
      "📦 Model and Scaler saved with compression!\n"
     ]
    }
   ],
   "source": [
    "joblib.dump(model, 'rf_model.pkl', compress=3)\n",
    "joblib.dump(scaler, 'scaler.pkl', compress=3)\n",
    "print(\"📦 Model and Scaler saved with compression!\")"
   ]
  },
  {
   "cell_type": "code",
   "execution_count": 2,
   "id": "3dbc078a",
   "metadata": {},
   "outputs": [
    {
     "name": "stdout",
     "output_type": "stream",
     "text": [
      "Name: scikit-learn\n",
      "Version: 1.0.2\n",
      "Summary: A set of python modules for machine learning and data mining\n",
      "Home-page: http://scikit-learn.org\n",
      "Author: \n",
      "Author-email: \n",
      "License: new BSD\n",
      "Location: c:\\users\\devesh kumar\\anaconda3\\lib\\site-packages\n",
      "Requires: joblib, scipy, numpy, threadpoolctl\n",
      "Required-by: scikit-learn-intelex, mlxtend, category-encoders\n",
      "Note: you may need to restart the kernel to use updated packages.\n"
     ]
    }
   ],
   "source": [
    "pip show scikit-learn"
   ]
  },
  {
   "cell_type": "code",
   "execution_count": 3,
   "id": "4a74088f",
   "metadata": {},
   "outputs": [
    {
     "name": "stdout",
     "output_type": "stream",
     "text": [
      "aiohttp @ file:///C:/ci/aiohttp_1646806572557/work\n",
      "aiosignal @ file:///tmp/build/80754af9/aiosignal_1637843061372/work\n",
      "alabaster @ file:///home/ktietz/src/ci/alabaster_1611921544520/work\n",
      "anaconda-client @ file:///C:/ci/anaconda-client_1635342725944/work\n",
      "anaconda-navigator==2.1.4\n",
      "anaconda-project @ file:///tmp/build/80754af9/anaconda-project_1637161053845/work\n",
      "anyio @ file:///C:/ci/anyio_1644481921011/work/dist\n",
      "appdirs==1.4.4\n",
      "argon2-cffi @ file:///opt/conda/conda-bld/argon2-cffi_1645000214183/work\n",
      "argon2-cffi-bindings @ file:///C:/ci/argon2-cffi-bindings_1644551690056/work\n",
      "arrow @ file:///opt/conda/conda-bld/arrow_1649166651673/work\n",
      "asgiref==3.7.2\n",
      "astroid @ file:///C:/ci/astroid_1628063282661/work\n",
      "astropy @ file:///C:/ci/astropy_1650634291321/work\n",
      "asttokens @ file:///opt/conda/conda-bld/asttokens_1646925590279/work\n",
      "async-timeout @ file:///tmp/build/80754af9/async-timeout_1637851218186/work\n",
      "atomicwrites==1.4.0\n",
      "attrs @ file:///opt/conda/conda-bld/attrs_1642510447205/work\n",
      "Automat @ file:///tmp/build/80754af9/automat_1600298431173/work\n",
      "autopep8 @ file:///opt/conda/conda-bld/autopep8_1639166893812/work\n",
      "Babel @ file:///tmp/build/80754af9/babel_1620871417480/work\n",
      "backcall @ file:///home/ktietz/src/ci/backcall_1611930011877/work\n",
      "backports.functools-lru-cache @ file:///tmp/build/80754af9/backports.functools_lru_cache_1618170165463/work\n",
      "backports.tempfile @ file:///home/linux1/recipes/ci/backports.tempfile_1610991236607/work\n",
      "backports.weakref==1.0.post1\n",
      "bcrypt @ file:///C:/ci/bcrypt_1607022693089/work\n",
      "beautifulsoup4 @ file:///C:/ci/beautifulsoup4_1650293025093/work\n",
      "binaryornot @ file:///tmp/build/80754af9/binaryornot_1617751525010/work\n",
      "bitarray @ file:///C:/ci/bitarray_1648739663053/work\n",
      "bkcharts==0.2\n",
      "black==19.10b0\n",
      "bleach @ file:///opt/conda/conda-bld/bleach_1641577558959/work\n",
      "bokeh @ file:///C:/ci/bokeh_1638362966927/work\n",
      "boto3 @ file:///opt/conda/conda-bld/boto3_1649078879353/work\n",
      "botocore @ file:///opt/conda/conda-bld/botocore_1649076662316/work\n",
      "Bottleneck @ file:///C:/ci/bottleneck_1648010904582/work\n",
      "brotlipy==0.7.0\n",
      "cachetools @ file:///tmp/build/80754af9/cachetools_1619597386817/work\n",
      "category-encoders==2.6.4\n",
      "certifi==2021.10.8\n",
      "cffi @ file:///C:/ci_310/cffi_1642682485096/work\n",
      "chardet @ file:///C:/ci/chardet_1607706937985/work\n",
      "charset-normalizer @ file:///tmp/build/80754af9/charset-normalizer_1630003229654/work\n",
      "click @ file:///C:/ci/click_1646038595831/work\n",
      "cloudpickle @ file:///tmp/build/80754af9/cloudpickle_1632508026186/work\n",
      "clyent==1.2.2\n",
      "colorama @ file:///tmp/build/80754af9/colorama_1607707115595/work\n",
      "colorcet @ file:///tmp/build/80754af9/colorcet_1611168489822/work\n",
      "comtypes==1.1.10\n",
      "conda==4.12.0\n",
      "conda-build==3.21.8\n",
      "conda-content-trust @ file:///tmp/build/80754af9/conda-content-trust_1617045594566/work\n",
      "conda-pack @ file:///tmp/build/80754af9/conda-pack_1611163042455/work\n",
      "conda-package-handling @ file:///C:/ci/conda-package-handling_1649106011304/work\n",
      "conda-repo-cli @ file:///tmp/build/80754af9/conda-repo-cli_1620168426516/work\n",
      "conda-token @ file:///tmp/build/80754af9/conda-token_1620076980546/work\n",
      "conda-verify==3.4.2\n",
      "constantly==15.1.0\n",
      "cookiecutter @ file:///opt/conda/conda-bld/cookiecutter_1649151442564/work\n",
      "cryptography @ file:///C:/ci/cryptography_1633520531101/work\n",
      "cssselect==1.1.0\n",
      "cycler @ file:///tmp/build/80754af9/cycler_1637851556182/work\n",
      "Cython @ file:///C:/ci/cython_1647850559892/work\n",
      "cytoolz==0.11.0\n",
      "daal4py==2021.5.0\n",
      "dask @ file:///opt/conda/conda-bld/dask-core_1647268715755/work\n",
      "datashader @ file:///tmp/build/80754af9/datashader_1623782308369/work\n",
      "datashape==0.5.4\n",
      "debugpy @ file:///C:/ci/debugpy_1637091961445/work\n",
      "decorator @ file:///opt/conda/conda-bld/decorator_1643638310831/work\n",
      "defusedxml @ file:///tmp/build/80754af9/defusedxml_1615228127516/work\n",
      "diff-match-patch @ file:///Users/ktietz/demo/mc3/conda-bld/diff-match-patch_1630511840874/work\n",
      "distributed @ file:///opt/conda/conda-bld/distributed_1647271944416/work\n",
      "Django==4.2.7\n",
      "docutils @ file:///C:/ci/docutils_1620828264669/work\n",
      "entrypoints @ file:///C:/ci/entrypoints_1649926621128/work\n",
      "et-xmlfile==1.1.0\n",
      "executing @ file:///opt/conda/conda-bld/executing_1646925071911/work\n",
      "fastjsonschema @ file:///tmp/build/80754af9/python-fastjsonschema_1620414857593/work/dist\n",
      "filelock @ file:///opt/conda/conda-bld/filelock_1647002191454/work\n",
      "flake8 @ file:///tmp/build/80754af9/flake8_1620776156532/work\n",
      "Flask @ file:///home/ktietz/src/ci/flask_1611932660458/work\n",
      "fonttools==4.25.0\n",
      "frozenlist @ file:///C:/ci/frozenlist_1637767271796/work\n",
      "fsspec @ file:///opt/conda/conda-bld/fsspec_1647268051896/work\n",
      "future @ file:///C:/ci/future_1607568713721/work\n",
      "gensim @ file:///C:/ci/gensim_1646825438310/work\n",
      "glob2 @ file:///home/linux1/recipes/ci/glob2_1610991677669/work\n",
      "google-api-core @ file:///C:/ci/google-api-core-split_1613980333946/work\n",
      "google-auth @ file:///tmp/build/80754af9/google-auth_1626320605116/work\n",
      "google-cloud-core @ file:///tmp/build/80754af9/google-cloud-core_1625077425256/work\n",
      "google-cloud-storage @ file:///tmp/build/80754af9/google-cloud-storage_1601307969662/work\n",
      "google-crc32c @ file:///C:/ci/google-crc32c_1613234249694/work\n",
      "google-resumable-media @ file:///tmp/build/80754af9/google-resumable-media_1624367812531/work\n",
      "googleapis-common-protos @ file:///C:/ci/googleapis-common-protos-feedstock_1617957814607/work\n",
      "greenlet @ file:///C:/ci/greenlet_1628888275363/work\n",
      "grpcio @ file:///C:/ci/grpcio_1637590978642/work\n",
      "Note: you may need to restart the kernel to use updated packages.h5py @ file:///C:/ci/h5py_1637120894255/work\n",
      "\n",
      "HeapDict @ file:///Users/ktietz/demo/mc3/conda-bld/heapdict_1630598515714/work\n",
      "holoviews @ file:///opt/conda/conda-bld/holoviews_1645454331194/work\n",
      "hvplot @ file:///tmp/build/80754af9/hvplot_1627305124151/work\n",
      "hyperlink @ file:///tmp/build/80754af9/hyperlink_1610130746837/work\n",
      "idna @ file:///tmp/build/80754af9/idna_1637925883363/work\n",
      "imagecodecs @ file:///C:/ci/imagecodecs_1635511087451/work\n",
      "imageio @ file:///tmp/build/80754af9/imageio_1617700267927/work\n",
      "imagesize @ file:///tmp/build/80754af9/imagesize_1637939814114/work\n",
      "importlib-metadata @ file:///C:/ci/importlib-metadata_1648562621412/work\n",
      "incremental @ file:///tmp/build/80754af9/incremental_1636629750599/work\n",
      "inflection==0.5.1\n",
      "iniconfig @ file:///home/linux1/recipes/ci/iniconfig_1610983019677/work\n",
      "intake @ file:///opt/conda/conda-bld/intake_1647436631684/work\n",
      "intervaltree @ file:///Users/ktietz/demo/mc3/conda-bld/intervaltree_1630511889664/work\n",
      "ipykernel @ file:///C:/ci/ipykernel_1646982785443/work/dist/ipykernel-6.9.1-py3-none-any.whl\n",
      "ipython @ file:///C:/ci/ipython_1648817223581/work\n",
      "ipython-genutils @ file:///tmp/build/80754af9/ipython_genutils_1606773439826/work\n",
      "ipywidgets @ file:///tmp/build/80754af9/ipywidgets_1634143127070/work\n",
      "isort @ file:///tmp/build/80754af9/isort_1628603791788/work\n",
      "itemadapter @ file:///tmp/build/80754af9/itemadapter_1626442940632/work\n",
      "itemloaders @ file:///opt/conda/conda-bld/itemloaders_1646805235997/work\n",
      "itsdangerous @ file:///tmp/build/80754af9/itsdangerous_1621432558163/work\n",
      "jdcal @ file:///Users/ktietz/demo/mc3/conda-bld/jdcal_1630584345063/work\n",
      "jedi @ file:///C:/ci/jedi_1644315428289/work\n",
      "Jinja2 @ file:///tmp/build/80754af9/jinja2_1612213139570/work\n",
      "jinja2-time @ file:///opt/conda/conda-bld/jinja2-time_1649251842261/work\n",
      "jmespath @ file:///Users/ktietz/demo/mc3/conda-bld/jmespath_1630583964805/work\n",
      "joblib @ file:///tmp/build/80754af9/joblib_1635411271373/work\n",
      "json5 @ file:///tmp/build/80754af9/json5_1624432770122/work\n",
      "jsonschema @ file:///C:/ci/jsonschema_1650008058050/work\n",
      "jupyter @ file:///C:/ci/jupyter_1607685287094/work\n",
      "jupyter-client @ file:///tmp/build/80754af9/jupyter_client_1616770841739/work\n",
      "jupyter-console @ file:///tmp/build/80754af9/jupyter_console_1616615302928/work\n",
      "jupyter-core @ file:///C:/ci/jupyter_core_1646994619043/work\n",
      "jupyter-server @ file:///opt/conda/conda-bld/jupyter_server_1644494914632/work\n",
      "jupyterlab @ file:///opt/conda/conda-bld/jupyterlab_1647445413472/work\n",
      "jupyterlab-pygments @ file:///tmp/build/80754af9/jupyterlab_pygments_1601490720602/work\n",
      "jupyterlab-server @ file:///opt/conda/conda-bld/jupyterlab_server_1644500396812/work\n",
      "jupyterlab-widgets @ file:///tmp/build/80754af9/jupyterlab_widgets_1609884341231/work\n",
      "keyring @ file:///C:/ci/keyring_1638531673471/work\n",
      "kiwisolver @ file:///C:/ci/kiwisolver_1644962577370/work\n",
      "lazy-object-proxy @ file:///C:/ci/lazy-object-proxy_1616529288960/work\n",
      "libarchive-c @ file:///tmp/build/80754af9/python-libarchive-c_1617780486945/work\n",
      "llvmlite==0.38.0\n",
      "locket @ file:///C:/ci/locket_1647006279389/work\n",
      "lxml @ file:///C:/ci/lxml_1646642862366/work\n",
      "Markdown @ file:///C:/ci/markdown_1614364082838/work\n",
      "MarkupSafe @ file:///C:/ci/markupsafe_1621528502553/work\n",
      "matplotlib @ file:///C:/ci/matplotlib-suite_1647423638658/work\n",
      "matplotlib-inline @ file:///tmp/build/80754af9/matplotlib-inline_1628242447089/work\n",
      "mccabe==0.6.1\n",
      "menuinst @ file:///C:/ci/menuinst_1631733438520/work\n",
      "mistune @ file:///C:/ci/mistune_1607359457024/work\n",
      "mkl-fft==1.3.1\n",
      "mkl-random @ file:///C:/ci/mkl_random_1626186184308/work\n",
      "mkl-service==2.4.0\n",
      "mlxtend==0.22.0\n",
      "mock @ file:///tmp/build/80754af9/mock_1607622725907/work\n",
      "mpmath==1.2.1\n",
      "msgpack @ file:///C:/ci/msgpack-python_1612287350784/work\n",
      "multidict @ file:///C:/ci/multidict_1607349747897/work\n",
      "multipledispatch @ file:///C:/ci/multipledispatch_1607574329826/work\n",
      "munkres==1.1.4\n",
      "mypy-extensions==0.4.3\n",
      "navigator-updater==0.2.1\n",
      "nbclassic @ file:///opt/conda/conda-bld/nbclassic_1644943264176/work\n",
      "nbclient @ file:///C:/ci/nbclient_1650290387259/work\n",
      "nbconvert @ file:///C:/ci/nbconvert_1649741016669/work\n",
      "nbformat @ file:///C:/ci/nbformat_1649845125000/work\n",
      "nest-asyncio @ file:///C:/ci/nest-asyncio_1649829929390/work\n",
      "networkx @ file:///opt/conda/conda-bld/networkx_1647437648384/work\n",
      "nltk @ file:///opt/conda/conda-bld/nltk_1645628263994/work\n",
      "nose @ file:///opt/conda/conda-bld/nose_1642704612149/work\n",
      "notebook @ file:///C:/ci/notebook_1645002729033/work\n",
      "numba @ file:///C:/ci/numba_1650394399948/work\n",
      "numexpr @ file:///C:/ci/numexpr_1640704337920/work\n",
      "numpy @ file:///C:/ci/numpy_and_numpy_base_1649782970434/work\n",
      "numpydoc @ file:///opt/conda/conda-bld/numpydoc_1643788541039/work\n",
      "olefile @ file:///Users/ktietz/demo/mc3/conda-bld/olefile_1629805411829/work\n",
      "openpyxl @ file:///tmp/build/80754af9/openpyxl_1632777717936/work\n",
      "packaging @ file:///tmp/build/80754af9/packaging_1637314298585/work\n",
      "pandas @ file:///C:/ci/pandas_1650373458095/work\n",
      "pandocfilters @ file:///opt/conda/conda-bld/pandocfilters_1643405455980/work\n",
      "panel @ file:///C:/ci/panel_1650623703033/work\n",
      "param @ file:///tmp/build/80754af9/param_1636647414893/work\n",
      "paramiko @ file:///opt/conda/conda-bld/paramiko_1640109032755/work\n",
      "parsel @ file:///C:/ci/parsel_1646740216444/work\n",
      "parso @ file:///opt/conda/conda-bld/parso_1641458642106/work\n",
      "partd @ file:///opt/conda/conda-bld/partd_1647245470509/work\n",
      "pathspec==0.7.0\n",
      "patsy==0.5.2\n",
      "pep8==1.7.1\n",
      "pexpect @ file:///tmp/build/80754af9/pexpect_1605563209008/work\n",
      "pickleshare @ file:///tmp/build/80754af9/pickleshare_1606932040724/work\n",
      "Pillow==9.0.1\n",
      "pkginfo @ file:///tmp/build/80754af9/pkginfo_1643162084911/work\n",
      "plotly @ file:///opt/conda/conda-bld/plotly_1646671701182/work\n",
      "pluggy @ file:///C:/ci/pluggy_1648024580010/work\n",
      "poyo @ file:///tmp/build/80754af9/poyo_1617751526755/work\n",
      "prometheus-client @ file:///opt/conda/conda-bld/prometheus_client_1643788673601/work\n",
      "prompt-toolkit @ file:///tmp/build/80754af9/prompt-toolkit_1633440160888/work\n",
      "Protego @ file:///tmp/build/80754af9/protego_1598657180827/work\n",
      "protobuf==3.19.1\n",
      "psutil @ file:///C:/ci/psutil_1612298199233/work\n",
      "ptyprocess @ file:///tmp/build/80754af9/ptyprocess_1609355006118/work/dist/ptyprocess-0.7.0-py2.py3-none-any.whl\n",
      "pure-eval @ file:///opt/conda/conda-bld/pure_eval_1646925070566/work\n",
      "py @ file:///opt/conda/conda-bld/py_1644396412707/work\n",
      "pyasn1 @ file:///Users/ktietz/demo/mc3/conda-bld/pyasn1_1629708007385/work\n",
      "pyasn1-modules==0.2.8\n",
      "pycodestyle @ file:///tmp/build/80754af9/pycodestyle_1615748559966/work\n",
      "pycosat==0.6.3\n",
      "pycparser @ file:///tmp/build/80754af9/pycparser_1636541352034/work\n",
      "pycryptodome==3.20.0\n",
      "pyct @ file:///C:/ci/pyct_1613411728548/work\n",
      "pycurl==7.44.1\n",
      "PyDispatcher==2.0.5\n",
      "pydocstyle @ file:///tmp/build/80754af9/pydocstyle_1621600989141/work\n",
      "pyerfa @ file:///C:/ci/pyerfa_1621560974055/work\n",
      "pyflakes @ file:///tmp/build/80754af9/pyflakes_1617200973297/work\n",
      "Pygments @ file:///opt/conda/conda-bld/pygments_1644249106324/work\n",
      "PyHamcrest @ file:///tmp/build/80754af9/pyhamcrest_1615748656804/work\n",
      "PyJWT @ file:///C:/ci/pyjwt_1619682721924/work\n",
      "pylint @ file:///C:/ci/pylint_1627536884966/work\n",
      "pyls-spyder==0.4.0\n",
      "PyNaCl @ file:///C:/ci/pynacl_1607612759007/work\n",
      "pyodbc @ file:///C:/ci/pyodbc_1647426110990/work\n",
      "pyOpenSSL @ file:///tmp/build/80754af9/pyopenssl_1635333100036/work\n",
      "pyparsing @ file:///tmp/build/80754af9/pyparsing_1635766073266/work\n",
      "pyreadline==2.1\n",
      "pyrsistent @ file:///C:/ci/pyrsistent_1636093225342/work\n",
      "PySocks @ file:///C:/ci/pysocks_1605307512533/work\n",
      "pytest==7.1.1\n",
      "python-dateutil @ file:///tmp/build/80754af9/python-dateutil_1626374649649/work\n",
      "python-lsp-black @ file:///tmp/build/80754af9/python-lsp-black_1634232156041/work\n",
      "python-lsp-jsonrpc==1.0.0\n",
      "python-lsp-server==1.2.4\n",
      "python-slugify @ file:///tmp/build/80754af9/python-slugify_1620405669636/work\n",
      "python-snappy @ file:///C:/ci/python-snappy_1610133405910/work\n",
      "pytz==2021.3\n",
      "pyviz-comms @ file:///tmp/build/80754af9/pyviz_comms_1623747165329/work\n",
      "PyWavelets @ file:///C:/ci/pywavelets_1648728084106/work\n",
      "pywin32==302\n",
      "pywin32-ctypes @ file:///C:/ci/pywin32-ctypes_1607553594546/work\n",
      "pywinpty @ file:///C:/ci_310/pywinpty_1644230983541/work/target/wheels/pywinpty-2.0.2-cp39-none-win_amd64.whl\n",
      "PyYAML==6.0\n",
      "pyzmq @ file:///C:/ci/pyzmq_1638435148211/work\n",
      "QDarkStyle @ file:///tmp/build/80754af9/qdarkstyle_1617386714626/work\n",
      "qstylizer @ file:///tmp/build/80754af9/qstylizer_1617713584600/work/dist/qstylizer-0.1.10-py2.py3-none-any.whl\n",
      "QtAwesome @ file:///tmp/build/80754af9/qtawesome_1637160816833/work\n",
      "qtconsole @ file:///opt/conda/conda-bld/qtconsole_1649078897110/work\n",
      "QtPy @ file:///opt/conda/conda-bld/qtpy_1649073884068/work\n",
      "queuelib==1.5.0\n",
      "regex @ file:///C:/ci/regex_1648447888413/work\n",
      "requests @ file:///opt/conda/conda-bld/requests_1641824580448/work\n",
      "requests-file @ file:///Users/ktietz/demo/mc3/conda-bld/requests-file_1629455781986/work\n",
      "rope @ file:///opt/conda/conda-bld/rope_1643788605236/work\n",
      "rsa @ file:///tmp/build/80754af9/rsa_1614366226499/work\n",
      "Rtree @ file:///C:/ci/rtree_1618421015405/work\n",
      "ruamel-yaml-conda @ file:///C:/ci/ruamel_yaml_1616016898638/work\n",
      "s3transfer @ file:///tmp/build/80754af9/s3transfer_1626435152308/work\n",
      "scikit-image @ file:///C:/ci/scikit-image_1648214340990/work\n",
      "scikit-learn @ file:///C:/ci/scikit-learn_1642617276183/work\n",
      "scikit-learn-intelex==2021.20220215.102710\n",
      "scipy @ file:///C:/ci/scipy_1641555170412/work\n",
      "Scrapy @ file:///C:/ci/scrapy_1646837986255/work\n",
      "seaborn @ file:///tmp/build/80754af9/seaborn_1629307859561/work\n",
      "Send2Trash @ file:///tmp/build/80754af9/send2trash_1632406701022/work\n",
      "service-identity @ file:///Users/ktietz/demo/mc3/conda-bld/service_identity_1629460757137/work\n",
      "sip==4.19.13\n",
      "six @ file:///tmp/build/80754af9/six_1644875935023/work\n",
      "smart-open @ file:///tmp/build/80754af9/smart_open_1623928409369/work\n",
      "sniffio @ file:///C:/ci/sniffio_1614030527509/work\n",
      "snowballstemmer @ file:///tmp/build/80754af9/snowballstemmer_1637937080595/work\n",
      "sortedcollections @ file:///tmp/build/80754af9/sortedcollections_1611172717284/work\n",
      "sortedcontainers @ file:///tmp/build/80754af9/sortedcontainers_1623949099177/work\n",
      "soupsieve @ file:///tmp/build/80754af9/soupsieve_1636706018808/work\n",
      "Sphinx @ file:///opt/conda/conda-bld/sphinx_1643644169832/work\n",
      "sphinxcontrib-applehelp @ file:///home/ktietz/src/ci/sphinxcontrib-applehelp_1611920841464/work\n",
      "sphinxcontrib-devhelp @ file:///home/ktietz/src/ci/sphinxcontrib-devhelp_1611920923094/work\n",
      "sphinxcontrib-htmlhelp @ file:///tmp/build/80754af9/sphinxcontrib-htmlhelp_1623945626792/work\n",
      "sphinxcontrib-jsmath @ file:///home/ktietz/src/ci/sphinxcontrib-jsmath_1611920942228/work\n",
      "sphinxcontrib-qthelp @ file:///home/ktietz/src/ci/sphinxcontrib-qthelp_1611921055322/work\n",
      "sphinxcontrib-serializinghtml @ file:///tmp/build/80754af9/sphinxcontrib-serializinghtml_1624451540180/work\n",
      "spyder @ file:///C:/ci/spyder_1636480369575/work\n",
      "spyder-kernels @ file:///C:/ci/spyder-kernels_1634237096710/work\n",
      "SQLAlchemy @ file:///C:/ci/sqlalchemy_1647600017103/work\n",
      "sqlparse==0.4.4\n",
      "stack-data @ file:///opt/conda/conda-bld/stack_data_1646927590127/work\n",
      "statsmodels==0.13.2\n",
      "sympy @ file:///C:/ci/sympy_1647853873858/work\n",
      "tables==3.6.1\n",
      "tabulate==0.8.9\n",
      "TBB==0.2\n",
      "tblib @ file:///Users/ktietz/demo/mc3/conda-bld/tblib_1629402031467/work\n",
      "tenacity @ file:///C:/ci/tenacity_1626248381338/work\n",
      "terminado @ file:///C:/ci/terminado_1644322780199/work\n",
      "testpath @ file:///tmp/build/80754af9/testpath_1624638946665/work\n",
      "text-unidecode @ file:///Users/ktietz/demo/mc3/conda-bld/text-unidecode_1629401354553/work\n",
      "textdistance @ file:///tmp/build/80754af9/textdistance_1612461398012/work\n",
      "threadpoolctl @ file:///Users/ktietz/demo/mc3/conda-bld/threadpoolctl_1629802263681/work\n",
      "three-merge @ file:///tmp/build/80754af9/three-merge_1607553261110/work\n",
      "tifffile @ file:///tmp/build/80754af9/tifffile_1627275862826/work\n",
      "tinycss @ file:///tmp/build/80754af9/tinycss_1617713798712/work\n",
      "tldextract @ file:///opt/conda/conda-bld/tldextract_1646638314385/work\n",
      "toml @ file:///tmp/build/80754af9/toml_1616166611790/work\n",
      "tomli @ file:///tmp/build/80754af9/tomli_1637314251069/work\n",
      "toolz @ file:///tmp/build/80754af9/toolz_1636545406491/work\n",
      "tornado @ file:///C:/ci/tornado_1606924294691/work\n",
      "tqdm @ file:///C:/ci/tqdm_1650636210717/work\n",
      "traitlets @ file:///tmp/build/80754af9/traitlets_1636710298902/work\n",
      "Twisted @ file:///C:/ci/twisted_1646835413846/work\n",
      "twisted-iocpsupport @ file:///C:/ci/twisted-iocpsupport_1646798932792/work\n",
      "typed-ast @ file:///C:/ci/typed-ast_1624953797214/work\n",
      "typing_extensions @ file:///opt/conda/conda-bld/typing_extensions_1647553014482/work\n",
      "tzdata==2023.3\n",
      "ujson @ file:///C:/ci/ujson_1648044223886/work\n",
      "Unidecode @ file:///tmp/build/80754af9/unidecode_1614712377438/work\n",
      "urllib3 @ file:///C:/ci/urllib3_1650639883891/work\n",
      "w3lib @ file:///Users/ktietz/demo/mc3/conda-bld/w3lib_1629359764703/work\n",
      "watchdog @ file:///C:/ci/watchdog_1638367441841/work\n",
      "wcwidth @ file:///Users/ktietz/demo/mc3/conda-bld/wcwidth_1629357192024/work\n",
      "webencodings==0.5.1\n",
      "websocket-client @ file:///C:/ci/websocket-client_1614804375980/work\n",
      "Werkzeug @ file:///opt/conda/conda-bld/werkzeug_1645628268370/work\n",
      "widgetsnbextension @ file:///C:/ci/widgetsnbextension_1644991377168/work\n",
      "win-inet-pton @ file:///C:/ci/win_inet_pton_1605306162074/work\n",
      "win-unicode-console==0.5\n",
      "wincertstore==0.2\n",
      "wrapt @ file:///C:/ci/wrapt_1607574570428/work\n",
      "xarray @ file:///opt/conda/conda-bld/xarray_1639166117697/work\n",
      "xgboost==2.1.3\n",
      "xlrd @ file:///tmp/build/80754af9/xlrd_1608072521494/work\n",
      "XlsxWriter @ file:///opt/conda/conda-bld/xlsxwriter_1649073856329/work\n",
      "xlwings==0.24.9\n",
      "yapf @ file:///tmp/build/80754af9/yapf_1615749224965/work\n",
      "yarl @ file:///C:/ci/yarl_1606940155993/work\n",
      "zict==2.0.0\n",
      "zipp @ file:///opt/conda/conda-bld/zipp_1641824620731/work\n",
      "zope.interface @ file:///C:/ci/zope.interface_1625036252485/work\n"
     ]
    }
   ],
   "source": [
    "pip freeze"
   ]
  },
  {
   "cell_type": "code",
   "execution_count": 4,
   "id": "26e4f4dc",
   "metadata": {},
   "outputs": [
    {
     "name": "stdout",
     "output_type": "stream",
     "text": [
      "Name: joblibNote: you may need to restart the kernel to use updated packages.\n",
      "Version: 1.1.0\n",
      "Summary: Lightweight pipelining with Python functions\n",
      "Home-page: https://joblib.readthedocs.io\n",
      "Author: Gael Varoquaux\n",
      "Author-email: gael.varoquaux@normalesup.org\n",
      "License: BSD\n",
      "Location: c:\\users\\devesh kumar\\anaconda3\\lib\\site-packages\n",
      "Requires: \n",
      "Required-by: scikit-learn, nltk, mlxtend\n",
      "\n"
     ]
    }
   ],
   "source": [
    "pip show joblib"
   ]
  },
  {
   "cell_type": "code",
   "execution_count": 5,
   "id": "b303c786",
   "metadata": {},
   "outputs": [
    {
     "name": "stdout",
     "output_type": "stream",
     "text": [
      "Note: you may need to restart the kernel to use updated packages.\n"
     ]
    },
    {
     "name": "stderr",
     "output_type": "stream",
     "text": [
      "WARNING: Package(s) not found: fastapi\n"
     ]
    }
   ],
   "source": [
    "pip show fastapi"
   ]
  },
  {
   "cell_type": "code",
   "execution_count": 6,
   "id": "745ec364",
   "metadata": {},
   "outputs": [
    {
     "name": "stdout",
     "output_type": "stream",
     "text": [
      "Name: numpy\n",
      "Version: 1.21.5\n",
      "Summary: NumPy is the fundamental package for array computing with Python.\n",
      "Home-page: https://www.numpy.org\n",
      "Author: Travis E. Oliphant et al.\n",
      "Author-email: \n",
      "License: BSD\n",
      "Location: c:\\users\\devesh kumar\\anaconda3\\lib\\site-packages\n",
      "Requires: \n",
      "Required-by: xgboost, xarray, tifffile, tables, statsmodels, seaborn, scipy, scikit-learn, scikit-image, PyWavelets, pyerfa, patsy, pandas, numexpr, numba, mlxtend, mkl-random, mkl-fft, matplotlib, imageio, imagecodecs, hvplot, holoviews, h5py, gensim, datashape, datashader, daal4py, category-encoders, Bottleneck, bokeh, bkcharts, astropy\n",
      "Note: you may need to restart the kernel to use updated packages.\n"
     ]
    }
   ],
   "source": [
    "pip show numpy"
   ]
  },
  {
   "cell_type": "code",
   "execution_count": null,
   "id": "9ed53647",
   "metadata": {},
   "outputs": [],
   "source": []
  }
 ],
 "metadata": {
  "kernelspec": {
   "display_name": "Python 3 (ipykernel)",
   "language": "python",
   "name": "python3"
  },
  "language_info": {
   "codemirror_mode": {
    "name": "ipython",
    "version": 3
   },
   "file_extension": ".py",
   "mimetype": "text/x-python",
   "name": "python",
   "nbconvert_exporter": "python",
   "pygments_lexer": "ipython3",
   "version": "3.9.12"
  }
 },
 "nbformat": 4,
 "nbformat_minor": 5
}
